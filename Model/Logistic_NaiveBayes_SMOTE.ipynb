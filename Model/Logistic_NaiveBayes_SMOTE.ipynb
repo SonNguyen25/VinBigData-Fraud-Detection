{
 "cells": [
  {
   "cell_type": "code",
   "execution_count": 1,
   "id": "e733cb53",
   "metadata": {},
   "outputs": [],
   "source": [
    "import numpy as np\n",
    "import pandas as pd\n",
    "import seaborn as sns\n",
    "import matplotlib.pyplot as plt\n",
    "import warnings\n",
    "warnings.filterwarnings(action='ignore')\n",
    "\n",
    "import imblearn\n",
    "from imblearn.over_sampling import SMOTE\n",
    "from sklearn.model_selection import train_test_split\n",
    "from collections import Counter\n",
    "from sklearn.naive_bayes import MultinomialNB, GaussianNB\n",
    "from sklearn.preprocessing import LabelEncoder\n",
    "from sklearn.metrics import accuracy_score, confusion_matrix, precision_score, recall_score, roc_auc_score, f1_score, classification_report\n",
    "from sklearn.preprocessing import MinMaxScaler, StandardScaler"
   ]
  },
  {
   "cell_type": "code",
   "execution_count": 2,
   "id": "d29aa3f4",
   "metadata": {},
   "outputs": [
    {
     "data": {
      "text/html": [
       "<div>\n",
       "<style scoped>\n",
       "    .dataframe tbody tr th:only-of-type {\n",
       "        vertical-align: middle;\n",
       "    }\n",
       "\n",
       "    .dataframe tbody tr th {\n",
       "        vertical-align: top;\n",
       "    }\n",
       "\n",
       "    .dataframe thead th {\n",
       "        text-align: right;\n",
       "    }\n",
       "</style>\n",
       "<table border=\"1\" class=\"dataframe\">\n",
       "  <thead>\n",
       "    <tr style=\"text-align: right;\">\n",
       "      <th></th>\n",
       "      <th>TransactionID</th>\n",
       "      <th>isFraud</th>\n",
       "      <th>TransactionDT</th>\n",
       "      <th>TransactionAmt</th>\n",
       "      <th>ProductCD</th>\n",
       "      <th>card1</th>\n",
       "      <th>card2</th>\n",
       "      <th>card3</th>\n",
       "      <th>card4</th>\n",
       "      <th>card5</th>\n",
       "      <th>...</th>\n",
       "      <th>id_37</th>\n",
       "      <th>id_38</th>\n",
       "      <th>DeviceType</th>\n",
       "      <th>DeviceInfo</th>\n",
       "      <th>OS_id_30</th>\n",
       "      <th>version_id_30</th>\n",
       "      <th>screen_width</th>\n",
       "      <th>screen_height</th>\n",
       "      <th>DeviceCorp</th>\n",
       "      <th>hour_warning</th>\n",
       "    </tr>\n",
       "  </thead>\n",
       "  <tbody>\n",
       "    <tr>\n",
       "      <th>0</th>\n",
       "      <td>2987000</td>\n",
       "      <td>0</td>\n",
       "      <td>86400</td>\n",
       "      <td>68.5</td>\n",
       "      <td>W</td>\n",
       "      <td>13926</td>\n",
       "      <td>143.0</td>\n",
       "      <td>150.0</td>\n",
       "      <td>discover</td>\n",
       "      <td>240.0</td>\n",
       "      <td>...</td>\n",
       "      <td>MISSING</td>\n",
       "      <td>MISSING</td>\n",
       "      <td>MISSING</td>\n",
       "      <td>MISSING</td>\n",
       "      <td>MISSING</td>\n",
       "      <td>MISSING</td>\n",
       "      <td>-1</td>\n",
       "      <td>-1</td>\n",
       "      <td>NAN</td>\n",
       "      <td>lowwarningsign</td>\n",
       "    </tr>\n",
       "    <tr>\n",
       "      <th>1</th>\n",
       "      <td>2987001</td>\n",
       "      <td>0</td>\n",
       "      <td>86401</td>\n",
       "      <td>29.0</td>\n",
       "      <td>W</td>\n",
       "      <td>2755</td>\n",
       "      <td>404.0</td>\n",
       "      <td>150.0</td>\n",
       "      <td>mastercard</td>\n",
       "      <td>102.0</td>\n",
       "      <td>...</td>\n",
       "      <td>MISSING</td>\n",
       "      <td>MISSING</td>\n",
       "      <td>MISSING</td>\n",
       "      <td>MISSING</td>\n",
       "      <td>MISSING</td>\n",
       "      <td>MISSING</td>\n",
       "      <td>-1</td>\n",
       "      <td>-1</td>\n",
       "      <td>NAN</td>\n",
       "      <td>lowwarningsign</td>\n",
       "    </tr>\n",
       "    <tr>\n",
       "      <th>2</th>\n",
       "      <td>2987002</td>\n",
       "      <td>0</td>\n",
       "      <td>86469</td>\n",
       "      <td>59.0</td>\n",
       "      <td>W</td>\n",
       "      <td>4663</td>\n",
       "      <td>490.0</td>\n",
       "      <td>150.0</td>\n",
       "      <td>visa</td>\n",
       "      <td>166.0</td>\n",
       "      <td>...</td>\n",
       "      <td>MISSING</td>\n",
       "      <td>MISSING</td>\n",
       "      <td>MISSING</td>\n",
       "      <td>MISSING</td>\n",
       "      <td>MISSING</td>\n",
       "      <td>MISSING</td>\n",
       "      <td>-1</td>\n",
       "      <td>-1</td>\n",
       "      <td>NAN</td>\n",
       "      <td>lowwarningsign</td>\n",
       "    </tr>\n",
       "    <tr>\n",
       "      <th>3</th>\n",
       "      <td>2987003</td>\n",
       "      <td>0</td>\n",
       "      <td>86499</td>\n",
       "      <td>50.0</td>\n",
       "      <td>W</td>\n",
       "      <td>18132</td>\n",
       "      <td>567.0</td>\n",
       "      <td>150.0</td>\n",
       "      <td>mastercard</td>\n",
       "      <td>117.0</td>\n",
       "      <td>...</td>\n",
       "      <td>MISSING</td>\n",
       "      <td>MISSING</td>\n",
       "      <td>MISSING</td>\n",
       "      <td>MISSING</td>\n",
       "      <td>MISSING</td>\n",
       "      <td>MISSING</td>\n",
       "      <td>-1</td>\n",
       "      <td>-1</td>\n",
       "      <td>NAN</td>\n",
       "      <td>lowwarningsign</td>\n",
       "    </tr>\n",
       "    <tr>\n",
       "      <th>4</th>\n",
       "      <td>2987004</td>\n",
       "      <td>0</td>\n",
       "      <td>86506</td>\n",
       "      <td>50.0</td>\n",
       "      <td>H</td>\n",
       "      <td>4497</td>\n",
       "      <td>514.0</td>\n",
       "      <td>150.0</td>\n",
       "      <td>mastercard</td>\n",
       "      <td>102.0</td>\n",
       "      <td>...</td>\n",
       "      <td>T</td>\n",
       "      <td>T</td>\n",
       "      <td>mobile</td>\n",
       "      <td>Samsung</td>\n",
       "      <td>Android</td>\n",
       "      <td>7.0</td>\n",
       "      <td>2220</td>\n",
       "      <td>1080</td>\n",
       "      <td>SAMSUNG</td>\n",
       "      <td>lowwarningsign</td>\n",
       "    </tr>\n",
       "  </tbody>\n",
       "</table>\n",
       "<p>5 rows × 199 columns</p>\n",
       "</div>"
      ],
      "text/plain": [
       "   TransactionID  isFraud  TransactionDT  TransactionAmt ProductCD  card1  \\\n",
       "0        2987000        0          86400            68.5         W  13926   \n",
       "1        2987001        0          86401            29.0         W   2755   \n",
       "2        2987002        0          86469            59.0         W   4663   \n",
       "3        2987003        0          86499            50.0         W  18132   \n",
       "4        2987004        0          86506            50.0         H   4497   \n",
       "\n",
       "   card2  card3       card4  card5  ...    id_37    id_38  DeviceType  \\\n",
       "0  143.0  150.0    discover  240.0  ...  MISSING  MISSING     MISSING   \n",
       "1  404.0  150.0  mastercard  102.0  ...  MISSING  MISSING     MISSING   \n",
       "2  490.0  150.0        visa  166.0  ...  MISSING  MISSING     MISSING   \n",
       "3  567.0  150.0  mastercard  117.0  ...  MISSING  MISSING     MISSING   \n",
       "4  514.0  150.0  mastercard  102.0  ...        T        T      mobile   \n",
       "\n",
       "   DeviceInfo OS_id_30 version_id_30  screen_width  screen_height  DeviceCorp  \\\n",
       "0     MISSING  MISSING       MISSING            -1             -1         NAN   \n",
       "1     MISSING  MISSING       MISSING            -1             -1         NAN   \n",
       "2     MISSING  MISSING       MISSING            -1             -1         NAN   \n",
       "3     MISSING  MISSING       MISSING            -1             -1         NAN   \n",
       "4     Samsung  Android           7.0          2220           1080     SAMSUNG   \n",
       "\n",
       "     hour_warning  \n",
       "0  lowwarningsign  \n",
       "1  lowwarningsign  \n",
       "2  lowwarningsign  \n",
       "3  lowwarningsign  \n",
       "4  lowwarningsign  \n",
       "\n",
       "[5 rows x 199 columns]"
      ]
     },
     "execution_count": 2,
     "metadata": {},
     "output_type": "execute_result"
    }
   ],
   "source": [
    "# load data đã được tiền xử lý\n",
    "train = pd.read_csv('data/train_eda.csv')\n",
    "train.head()"
   ]
  },
  {
   "cell_type": "code",
   "execution_count": 3,
   "id": "3c6667d7",
   "metadata": {},
   "outputs": [
    {
     "data": {
      "text/plain": [
       "(542580, 199)"
      ]
     },
     "execution_count": 3,
     "metadata": {},
     "output_type": "execute_result"
    }
   ],
   "source": [
    "train.shape"
   ]
  },
  {
   "cell_type": "code",
   "execution_count": 4,
   "id": "a3045cef",
   "metadata": {},
   "outputs": [
    {
     "name": "stdout",
     "output_type": "stream",
     "text": [
      "TransactionID\n",
      "isFraud\n",
      "TransactionDT\n",
      "TransactionAmt\n",
      "ProductCD\n",
      "card1\n",
      "card2\n",
      "card3\n",
      "card4\n",
      "card5\n",
      "card6\n",
      "addr1\n",
      "addr2\n",
      "dist1\n",
      "P_emaildomain\n",
      "R_emaildomain\n",
      "C1\n",
      "C2\n",
      "C3\n",
      "C4\n",
      "C5\n",
      "C6\n",
      "C7\n",
      "C8\n",
      "C9\n",
      "C10\n",
      "C11\n",
      "C12\n",
      "C13\n",
      "C14\n",
      "D1\n",
      "D3\n",
      "D4\n",
      "D5\n",
      "D8\n",
      "D9\n",
      "D10\n",
      "D11\n",
      "D13\n",
      "D14\n",
      "D15\n",
      "M1\n",
      "M2\n",
      "M3\n",
      "M4\n",
      "M5\n",
      "M6\n",
      "M7\n",
      "M8\n",
      "M9\n",
      "V1\n",
      "V3\n",
      "V4\n",
      "V6\n",
      "V8\n",
      "V11\n",
      "V13\n",
      "V14\n",
      "V17\n",
      "V20\n",
      "V23\n",
      "V26\n",
      "V27\n",
      "V30\n",
      "V36\n",
      "V37\n",
      "V40\n",
      "V41\n",
      "V44\n",
      "V47\n",
      "V48\n",
      "V54\n",
      "V56\n",
      "V59\n",
      "V62\n",
      "V65\n",
      "V67\n",
      "V68\n",
      "V70\n",
      "V76\n",
      "V78\n",
      "V80\n",
      "V82\n",
      "V86\n",
      "V88\n",
      "V89\n",
      "V91\n",
      "V96\n",
      "V98\n",
      "V99\n",
      "V104\n",
      "V107\n",
      "V108\n",
      "V111\n",
      "V115\n",
      "V117\n",
      "V120\n",
      "V121\n",
      "V123\n",
      "V124\n",
      "V127\n",
      "V129\n",
      "V130\n",
      "V136\n",
      "V169\n",
      "V171\n",
      "V173\n",
      "V175\n",
      "V176\n",
      "V178\n",
      "V180\n",
      "V182\n",
      "V185\n",
      "V187\n",
      "V188\n",
      "V198\n",
      "V203\n",
      "V205\n",
      "V207\n",
      "V209\n",
      "V210\n",
      "V215\n",
      "V218\n",
      "V220\n",
      "V221\n",
      "V223\n",
      "V224\n",
      "V226\n",
      "V228\n",
      "V229\n",
      "V234\n",
      "V235\n",
      "V238\n",
      "V240\n",
      "V250\n",
      "V252\n",
      "V253\n",
      "V257\n",
      "V258\n",
      "V260\n",
      "V261\n",
      "V264\n",
      "V266\n",
      "V267\n",
      "V271\n",
      "V274\n",
      "V277\n",
      "V281\n",
      "V283\n",
      "V284\n",
      "V285\n",
      "V286\n",
      "V289\n",
      "V291\n",
      "V294\n",
      "V296\n",
      "V297\n",
      "V301\n",
      "V303\n",
      "V305\n",
      "V307\n",
      "V309\n",
      "V310\n",
      "V314\n",
      "V320\n",
      "id_01\n",
      "id_02\n",
      "id_03\n",
      "id_04\n",
      "id_05\n",
      "id_06\n",
      "id_09\n",
      "id_10\n",
      "id_11\n",
      "id_12\n",
      "id_13\n",
      "id_14\n",
      "id_15\n",
      "id_16\n",
      "id_17\n",
      "id_19\n",
      "id_20\n",
      "id_28\n",
      "id_29\n",
      "id_31\n",
      "id_32\n",
      "id_34\n",
      "id_35\n",
      "id_36\n",
      "id_37\n",
      "id_38\n",
      "DeviceType\n",
      "DeviceInfo\n",
      "OS_id_30\n",
      "version_id_30\n",
      "screen_width\n",
      "screen_height\n",
      "DeviceCorp\n",
      "hour_warning\n"
     ]
    }
   ],
   "source": [
    "# in ra các cột \n",
    "for col in train.columns:\n",
    "    print(col)"
   ]
  },
  {
   "cell_type": "code",
   "execution_count": 5,
   "id": "7b2f2743",
   "metadata": {},
   "outputs": [],
   "source": [
    "# tách nhãn \n",
    "y = train['isFraud']\n",
    "X = train.drop('isFraud', axis=1)"
   ]
  },
  {
   "cell_type": "code",
   "execution_count": 6,
   "id": "54497c34",
   "metadata": {},
   "outputs": [],
   "source": [
    "# lấy các cột numerical\n",
    "num_cols = X.select_dtypes(include=np.number).columns.tolist()\n",
    "\n",
    "# lấy các cột categorical\n",
    "cat_cols = [col for col in X.columns.values if col not in num_cols]"
   ]
  },
  {
   "cell_type": "code",
   "execution_count": 7,
   "id": "d7ccccb8",
   "metadata": {},
   "outputs": [],
   "source": [
    "# min max scale numeric columns\n",
    "minmax = MinMaxScaler()\n",
    "minmax.fit(X[num_cols])\n",
    "X[num_cols] = minmax.transform(X[num_cols])\n",
    "\n",
    "# label encode categorical columns\n",
    "le = LabelEncoder()\n",
    "for col in cat_cols:\n",
    "    X[col] = le.fit_transform(X[col])"
   ]
  },
  {
   "cell_type": "code",
   "execution_count": 8,
   "id": "159d7671",
   "metadata": {},
   "outputs": [],
   "source": [
    "# lấy tập train và test\n",
    "X_train, X_test, y_train, y_test = train_test_split(X,y,test_size=0.2, stratify=y, random_state=42)"
   ]
  },
  {
   "cell_type": "code",
   "execution_count": 9,
   "id": "a11c2d3d",
   "metadata": {},
   "outputs": [
    {
     "data": {
      "text/plain": [
       "0    0.965475\n",
       "1    0.034525\n",
       "Name: isFraud, dtype: float64"
      ]
     },
     "execution_count": 9,
     "metadata": {},
     "output_type": "execute_result"
    }
   ],
   "source": [
    "# xem phân bố nhãn của y_train\n",
    "y_train.value_counts(normalize=True)"
   ]
  },
  {
   "cell_type": "code",
   "execution_count": 10,
   "id": "e3cea3cf",
   "metadata": {},
   "outputs": [
    {
     "data": {
      "text/plain": [
       "0    0.965471\n",
       "1    0.034529\n",
       "Name: isFraud, dtype: float64"
      ]
     },
     "execution_count": 10,
     "metadata": {},
     "output_type": "execute_result"
    }
   ],
   "source": [
    "# xem phân bố nhãn của y_test\n",
    "y_test.value_counts(normalize=True)"
   ]
  },
  {
   "cell_type": "markdown",
   "id": "874eb7d5",
   "metadata": {},
   "source": [
    "### Sử dụng phương pháp SMOTE"
   ]
  },
  {
   "cell_type": "code",
   "execution_count": 12,
   "id": "bcbf1c93",
   "metadata": {},
   "outputs": [],
   "source": [
    "smote = SMOTE(random_state=42)\n",
    "X_res, y_res = smote.fit_resample(X_train, y_train)"
   ]
  },
  {
   "cell_type": "code",
   "execution_count": 13,
   "id": "095429d9",
   "metadata": {},
   "outputs": [
    {
     "data": {
      "text/plain": [
       "Counter({0: 419078, 1: 419078})"
      ]
     },
     "execution_count": 13,
     "metadata": {},
     "output_type": "execute_result"
    }
   ],
   "source": [
    "Counter(y_res)"
   ]
  },
  {
   "cell_type": "markdown",
   "id": "9e5c2156",
   "metadata": {},
   "source": [
    "### Mô hình Multinomial Naive Bayes chưa tune"
   ]
  },
  {
   "cell_type": "code",
   "execution_count": 14,
   "id": "75c27bc0",
   "metadata": {},
   "outputs": [
    {
     "data": {
      "text/html": [
       "<style>#sk-container-id-1 {color: black;background-color: white;}#sk-container-id-1 pre{padding: 0;}#sk-container-id-1 div.sk-toggleable {background-color: white;}#sk-container-id-1 label.sk-toggleable__label {cursor: pointer;display: block;width: 100%;margin-bottom: 0;padding: 0.3em;box-sizing: border-box;text-align: center;}#sk-container-id-1 label.sk-toggleable__label-arrow:before {content: \"▸\";float: left;margin-right: 0.25em;color: #696969;}#sk-container-id-1 label.sk-toggleable__label-arrow:hover:before {color: black;}#sk-container-id-1 div.sk-estimator:hover label.sk-toggleable__label-arrow:before {color: black;}#sk-container-id-1 div.sk-toggleable__content {max-height: 0;max-width: 0;overflow: hidden;text-align: left;background-color: #f0f8ff;}#sk-container-id-1 div.sk-toggleable__content pre {margin: 0.2em;color: black;border-radius: 0.25em;background-color: #f0f8ff;}#sk-container-id-1 input.sk-toggleable__control:checked~div.sk-toggleable__content {max-height: 200px;max-width: 100%;overflow: auto;}#sk-container-id-1 input.sk-toggleable__control:checked~label.sk-toggleable__label-arrow:before {content: \"▾\";}#sk-container-id-1 div.sk-estimator input.sk-toggleable__control:checked~label.sk-toggleable__label {background-color: #d4ebff;}#sk-container-id-1 div.sk-label input.sk-toggleable__control:checked~label.sk-toggleable__label {background-color: #d4ebff;}#sk-container-id-1 input.sk-hidden--visually {border: 0;clip: rect(1px 1px 1px 1px);clip: rect(1px, 1px, 1px, 1px);height: 1px;margin: -1px;overflow: hidden;padding: 0;position: absolute;width: 1px;}#sk-container-id-1 div.sk-estimator {font-family: monospace;background-color: #f0f8ff;border: 1px dotted black;border-radius: 0.25em;box-sizing: border-box;margin-bottom: 0.5em;}#sk-container-id-1 div.sk-estimator:hover {background-color: #d4ebff;}#sk-container-id-1 div.sk-parallel-item::after {content: \"\";width: 100%;border-bottom: 1px solid gray;flex-grow: 1;}#sk-container-id-1 div.sk-label:hover label.sk-toggleable__label {background-color: #d4ebff;}#sk-container-id-1 div.sk-serial::before {content: \"\";position: absolute;border-left: 1px solid gray;box-sizing: border-box;top: 0;bottom: 0;left: 50%;z-index: 0;}#sk-container-id-1 div.sk-serial {display: flex;flex-direction: column;align-items: center;background-color: white;padding-right: 0.2em;padding-left: 0.2em;position: relative;}#sk-container-id-1 div.sk-item {position: relative;z-index: 1;}#sk-container-id-1 div.sk-parallel {display: flex;align-items: stretch;justify-content: center;background-color: white;position: relative;}#sk-container-id-1 div.sk-item::before, #sk-container-id-1 div.sk-parallel-item::before {content: \"\";position: absolute;border-left: 1px solid gray;box-sizing: border-box;top: 0;bottom: 0;left: 50%;z-index: -1;}#sk-container-id-1 div.sk-parallel-item {display: flex;flex-direction: column;z-index: 1;position: relative;background-color: white;}#sk-container-id-1 div.sk-parallel-item:first-child::after {align-self: flex-end;width: 50%;}#sk-container-id-1 div.sk-parallel-item:last-child::after {align-self: flex-start;width: 50%;}#sk-container-id-1 div.sk-parallel-item:only-child::after {width: 0;}#sk-container-id-1 div.sk-dashed-wrapped {border: 1px dashed gray;margin: 0 0.4em 0.5em 0.4em;box-sizing: border-box;padding-bottom: 0.4em;background-color: white;}#sk-container-id-1 div.sk-label label {font-family: monospace;font-weight: bold;display: inline-block;line-height: 1.2em;}#sk-container-id-1 div.sk-label-container {text-align: center;}#sk-container-id-1 div.sk-container {/* jupyter's `normalize.less` sets `[hidden] { display: none; }` but bootstrap.min.css set `[hidden] { display: none !important; }` so we also need the `!important` here to be able to override the default hidden behavior on the sphinx rendered scikit-learn.org. See: https://github.com/scikit-learn/scikit-learn/issues/21755 */display: inline-block !important;position: relative;}#sk-container-id-1 div.sk-text-repr-fallback {display: none;}</style><div id=\"sk-container-id-1\" class=\"sk-top-container\"><div class=\"sk-text-repr-fallback\"><pre>MultinomialNB(alpha=0.1)</pre><b>In a Jupyter environment, please rerun this cell to show the HTML representation or trust the notebook. <br />On GitHub, the HTML representation is unable to render, please try loading this page with nbviewer.org.</b></div><div class=\"sk-container\" hidden><div class=\"sk-item\"><div class=\"sk-estimator sk-toggleable\"><input class=\"sk-toggleable__control sk-hidden--visually\" id=\"sk-estimator-id-1\" type=\"checkbox\" checked><label for=\"sk-estimator-id-1\" class=\"sk-toggleable__label sk-toggleable__label-arrow\">MultinomialNB</label><div class=\"sk-toggleable__content\"><pre>MultinomialNB(alpha=0.1)</pre></div></div></div></div></div>"
      ],
      "text/plain": [
       "MultinomialNB(alpha=0.1)"
      ]
     },
     "execution_count": 14,
     "metadata": {},
     "output_type": "execute_result"
    }
   ],
   "source": [
    "model_MNB = MultinomialNB(alpha=0.1)\n",
    "model_MNB.fit(X_res, y_res)"
   ]
  },
  {
   "cell_type": "code",
   "execution_count": 15,
   "id": "6a54b0f5",
   "metadata": {},
   "outputs": [],
   "source": [
    "# xác suất của nhãn 1\n",
    "y_pred_probs = model_MNB.predict_proba(X_test)[:, 1]\n",
    "\n",
    "# nhãn dự đoán\n",
    "y_pred = model_MNB.predict(X_test)"
   ]
  },
  {
   "cell_type": "code",
   "execution_count": 16,
   "id": "900e753f",
   "metadata": {},
   "outputs": [
    {
     "data": {
      "text/plain": [
       "0.712281568231993"
      ]
     },
     "execution_count": 16,
     "metadata": {},
     "output_type": "execute_result"
    }
   ],
   "source": [
    "# ROC\n",
    "roc_auc_score(y_test, y_pred_probs)"
   ]
  },
  {
   "cell_type": "code",
   "execution_count": 17,
   "id": "b332eda0",
   "metadata": {},
   "outputs": [
    {
     "name": "stdout",
     "output_type": "stream",
     "text": [
      "              precision    recall  f1-score   support\n",
      "\n",
      "           0       0.98      0.77      0.86    104769\n",
      "           1       0.08      0.55      0.14      3747\n",
      "\n",
      "    accuracy                           0.76    108516\n",
      "   macro avg       0.53      0.66      0.50    108516\n",
      "weighted avg       0.95      0.76      0.84    108516\n",
      "\n"
     ]
    }
   ],
   "source": [
    "print(classification_report(y_test, y_pred))"
   ]
  },
  {
   "cell_type": "markdown",
   "id": "0c6cbfbe",
   "metadata": {},
   "source": [
    "ROC: 0.7123, Precision (nhãn 1): 0.08, Recall (nhãn 1): 0.55"
   ]
  },
  {
   "cell_type": "markdown",
   "id": "4e67bb5c",
   "metadata": {},
   "source": [
    "### Hyperparamters Tuning cho Multinomial Naive Bayes (tune alpha)"
   ]
  },
  {
   "cell_type": "code",
   "execution_count": 18,
   "id": "99d90d5c",
   "metadata": {},
   "outputs": [],
   "source": [
    "from sklearn.model_selection import KFold"
   ]
  },
  {
   "cell_type": "code",
   "execution_count": 19,
   "id": "275a6b5d",
   "metadata": {},
   "outputs": [
    {
     "data": {
      "image/png": "[encoded data removed]",
      "text/plain": [
       "<Figure size 640x480 with 1 Axes>"
      ]
     },
     "metadata": {},
     "output_type": "display_data"
    }
   ],
   "source": [
    "alphas = [2,1, 1e-1, 1e-2, 1e-3, 1e-4, 1e-5]\n",
    "roc = []\n",
    "kf = KFold(shuffle=True,random_state=42)\n",
    "for alpha in alphas:\n",
    "    model_GNB = MultinomialNB(alpha=alpha)\n",
    "    scores = []\n",
    "    for i, (train_index, val_index) in enumerate(kf.split(X_res)):\n",
    "        X_train_i = X_res.loc[train_index]\n",
    "        y_train_i = y_res[train_index]\n",
    "        X_val_i = X_res.loc[val_index]\n",
    "        y_val_i = y_res[val_index]\n",
    "        model_GNB.fit(X_train_i, y_train_i)\n",
    "        y_pred_i = model_GNB.predict_proba(X_val_i)[:, 1]\n",
    "        scores.append(roc_auc_score(y_val_i, y_pred_i))\n",
    "\n",
    "    # Hoàn thiện thêm phần code ở đây để ghi nhận acc tương ứng trong từng trường hợp\n",
    "    roc.append(np.mean(scores))\n",
    "\n",
    "# Minh họa tương quan bằng đồ thị\n",
    "\n",
    "plt.plot(alphas, roc, marker=\"o\", linestyle=\"-\")\n",
    "plt.xscale(\"log\")  # Set the x-axis to be logarithmic\n",
    "plt.xlabel(\"alpha\")\n",
    "plt.ylabel(\"AUC\")\n",
    "plt.title(\"AUC vs. alpha in Multinomial Naive Bayes\")\n",
    "plt.grid(True)\n",
    "plt.show()"
   ]
  },
  {
   "cell_type": "markdown",
   "id": "a2e2c4f4",
   "metadata": {},
   "source": [
    "Nhìn vào biểu đồ trên, ta sẽ chọn alpha=0.0001 vì nó cho ROC trên tập validation lớn nhất"
   ]
  },
  {
   "cell_type": "code",
   "execution_count": 20,
   "id": "b0c7fcdd",
   "metadata": {},
   "outputs": [
    {
     "name": "stdout",
     "output_type": "stream",
     "text": [
      "              precision    recall  f1-score   support\n",
      "\n",
      "           0       0.98      0.77      0.86    104769\n",
      "           1       0.08      0.55      0.14      3747\n",
      "\n",
      "    accuracy                           0.76    108516\n",
      "   macro avg       0.53      0.66      0.50    108516\n",
      "weighted avg       0.95      0.76      0.84    108516\n",
      "\n"
     ]
    }
   ],
   "source": [
    "# mô hình MNB đã được chọn tham số tối ưu \n",
    "model_MNB = MultinomialNB(alpha=1e-5)\n",
    "model_MNB.fit(X_res, y_res)\n",
    "y_pred = model_MNB.predict(X_test)\n",
    "\n",
    "print(classification_report(y_test, y_pred))"
   ]
  },
  {
   "cell_type": "code",
   "execution_count": 21,
   "id": "89ee4cb5",
   "metadata": {},
   "outputs": [
    {
     "data": {
      "text/plain": [
       "0.7122824585203388"
      ]
     },
     "execution_count": 21,
     "metadata": {},
     "output_type": "execute_result"
    }
   ],
   "source": [
    "y_pred_probs = model_MNB.predict_proba(X_test)[:, 1]\n",
    "roc_auc_score(y_test, y_pred_probs)"
   ]
  },
  {
   "cell_type": "markdown",
   "id": "eb099a67",
   "metadata": {},
   "source": [
    "ROC: 0.7123, Precision (nhãn 1): 0.08, Recall (nhãn 1): 0.55"
   ]
  },
  {
   "cell_type": "markdown",
   "id": "b33aa0e7",
   "metadata": {},
   "source": [
    "### Mô hình Gaussian Naive Bayes chưa tune"
   ]
  },
  {
   "cell_type": "code",
   "execution_count": 22,
   "id": "4b6754bc",
   "metadata": {},
   "outputs": [
    {
     "data": {
      "text/html": [
       "<div>\n",
       "<style scoped>\n",
       "    .dataframe tbody tr th:only-of-type {\n",
       "        vertical-align: middle;\n",
       "    }\n",
       "\n",
       "    .dataframe tbody tr th {\n",
       "        vertical-align: top;\n",
       "    }\n",
       "\n",
       "    .dataframe thead th {\n",
       "        text-align: right;\n",
       "    }\n",
       "</style>\n",
       "<table border=\"1\" class=\"dataframe\">\n",
       "  <thead>\n",
       "    <tr style=\"text-align: right;\">\n",
       "      <th></th>\n",
       "      <th>TransactionID</th>\n",
       "      <th>TransactionDT</th>\n",
       "      <th>TransactionAmt</th>\n",
       "      <th>card1</th>\n",
       "      <th>card2</th>\n",
       "      <th>card3</th>\n",
       "      <th>card5</th>\n",
       "      <th>addr1</th>\n",
       "      <th>addr2</th>\n",
       "      <th>dist1</th>\n",
       "      <th>...</th>\n",
       "      <th>id_09</th>\n",
       "      <th>id_10</th>\n",
       "      <th>id_11</th>\n",
       "      <th>id_13</th>\n",
       "      <th>id_14</th>\n",
       "      <th>id_17</th>\n",
       "      <th>id_19</th>\n",
       "      <th>id_20</th>\n",
       "      <th>screen_width</th>\n",
       "      <th>screen_height</th>\n",
       "    </tr>\n",
       "  </thead>\n",
       "  <tbody>\n",
       "    <tr>\n",
       "      <th>0</th>\n",
       "      <td>2987000.0</td>\n",
       "      <td>86400.0</td>\n",
       "      <td>68.50</td>\n",
       "      <td>13926.0</td>\n",
       "      <td>143.0</td>\n",
       "      <td>150.0</td>\n",
       "      <td>240.0</td>\n",
       "      <td>315.0</td>\n",
       "      <td>87.0</td>\n",
       "      <td>19.000000</td>\n",
       "      <td>...</td>\n",
       "      <td>-46.0</td>\n",
       "      <td>-110.0</td>\n",
       "      <td>80.0</td>\n",
       "      <td>66.0</td>\n",
       "      <td>722.0</td>\n",
       "      <td>231.0</td>\n",
       "      <td>673.0</td>\n",
       "      <td>663.0</td>\n",
       "      <td>-1.0</td>\n",
       "      <td>-1.0</td>\n",
       "    </tr>\n",
       "    <tr>\n",
       "      <th>1</th>\n",
       "      <td>2987001.0</td>\n",
       "      <td>86401.0</td>\n",
       "      <td>29.00</td>\n",
       "      <td>2755.0</td>\n",
       "      <td>404.0</td>\n",
       "      <td>150.0</td>\n",
       "      <td>102.0</td>\n",
       "      <td>325.0</td>\n",
       "      <td>87.0</td>\n",
       "      <td>1927.650000</td>\n",
       "      <td>...</td>\n",
       "      <td>-46.0</td>\n",
       "      <td>-110.0</td>\n",
       "      <td>80.0</td>\n",
       "      <td>66.0</td>\n",
       "      <td>722.0</td>\n",
       "      <td>231.0</td>\n",
       "      <td>673.0</td>\n",
       "      <td>663.0</td>\n",
       "      <td>-1.0</td>\n",
       "      <td>-1.0</td>\n",
       "    </tr>\n",
       "    <tr>\n",
       "      <th>2</th>\n",
       "      <td>2987002.0</td>\n",
       "      <td>86469.0</td>\n",
       "      <td>59.00</td>\n",
       "      <td>4663.0</td>\n",
       "      <td>490.0</td>\n",
       "      <td>150.0</td>\n",
       "      <td>166.0</td>\n",
       "      <td>330.0</td>\n",
       "      <td>87.0</td>\n",
       "      <td>287.000000</td>\n",
       "      <td>...</td>\n",
       "      <td>-46.0</td>\n",
       "      <td>-110.0</td>\n",
       "      <td>80.0</td>\n",
       "      <td>66.0</td>\n",
       "      <td>722.0</td>\n",
       "      <td>231.0</td>\n",
       "      <td>673.0</td>\n",
       "      <td>663.0</td>\n",
       "      <td>-1.0</td>\n",
       "      <td>-1.0</td>\n",
       "    </tr>\n",
       "    <tr>\n",
       "      <th>3</th>\n",
       "      <td>2987003.0</td>\n",
       "      <td>86499.0</td>\n",
       "      <td>50.00</td>\n",
       "      <td>18132.0</td>\n",
       "      <td>567.0</td>\n",
       "      <td>150.0</td>\n",
       "      <td>117.0</td>\n",
       "      <td>476.0</td>\n",
       "      <td>87.0</td>\n",
       "      <td>156.030000</td>\n",
       "      <td>...</td>\n",
       "      <td>-46.0</td>\n",
       "      <td>-110.0</td>\n",
       "      <td>80.0</td>\n",
       "      <td>66.0</td>\n",
       "      <td>722.0</td>\n",
       "      <td>231.0</td>\n",
       "      <td>673.0</td>\n",
       "      <td>663.0</td>\n",
       "      <td>-1.0</td>\n",
       "      <td>-1.0</td>\n",
       "    </tr>\n",
       "    <tr>\n",
       "      <th>4</th>\n",
       "      <td>2987004.0</td>\n",
       "      <td>86506.0</td>\n",
       "      <td>50.00</td>\n",
       "      <td>4497.0</td>\n",
       "      <td>514.0</td>\n",
       "      <td>150.0</td>\n",
       "      <td>102.0</td>\n",
       "      <td>420.0</td>\n",
       "      <td>87.0</td>\n",
       "      <td>1877.150000</td>\n",
       "      <td>...</td>\n",
       "      <td>-46.0</td>\n",
       "      <td>-110.0</td>\n",
       "      <td>100.0</td>\n",
       "      <td>66.0</td>\n",
       "      <td>-480.0</td>\n",
       "      <td>166.0</td>\n",
       "      <td>542.0</td>\n",
       "      <td>144.0</td>\n",
       "      <td>2220.0</td>\n",
       "      <td>1080.0</td>\n",
       "    </tr>\n",
       "    <tr>\n",
       "      <th>...</th>\n",
       "      <td>...</td>\n",
       "      <td>...</td>\n",
       "      <td>...</td>\n",
       "      <td>...</td>\n",
       "      <td>...</td>\n",
       "      <td>...</td>\n",
       "      <td>...</td>\n",
       "      <td>...</td>\n",
       "      <td>...</td>\n",
       "      <td>...</td>\n",
       "      <td>...</td>\n",
       "      <td>...</td>\n",
       "      <td>...</td>\n",
       "      <td>...</td>\n",
       "      <td>...</td>\n",
       "      <td>...</td>\n",
       "      <td>...</td>\n",
       "      <td>...</td>\n",
       "      <td>...</td>\n",
       "      <td>...</td>\n",
       "      <td>...</td>\n",
       "    </tr>\n",
       "    <tr>\n",
       "      <th>542575</th>\n",
       "      <td>3530587.0</td>\n",
       "      <td>14335388.0</td>\n",
       "      <td>335.00</td>\n",
       "      <td>2455.0</td>\n",
       "      <td>321.0</td>\n",
       "      <td>150.0</td>\n",
       "      <td>226.0</td>\n",
       "      <td>272.0</td>\n",
       "      <td>87.0</td>\n",
       "      <td>30.717000</td>\n",
       "      <td>...</td>\n",
       "      <td>-46.0</td>\n",
       "      <td>-110.0</td>\n",
       "      <td>80.0</td>\n",
       "      <td>66.0</td>\n",
       "      <td>722.0</td>\n",
       "      <td>231.0</td>\n",
       "      <td>673.0</td>\n",
       "      <td>663.0</td>\n",
       "      <td>-1.0</td>\n",
       "      <td>-1.0</td>\n",
       "    </tr>\n",
       "    <tr>\n",
       "      <th>542576</th>\n",
       "      <td>3530588.0</td>\n",
       "      <td>14335394.0</td>\n",
       "      <td>47.95</td>\n",
       "      <td>8320.0</td>\n",
       "      <td>476.0</td>\n",
       "      <td>150.0</td>\n",
       "      <td>166.0</td>\n",
       "      <td>191.0</td>\n",
       "      <td>87.0</td>\n",
       "      <td>1.000000</td>\n",
       "      <td>...</td>\n",
       "      <td>-46.0</td>\n",
       "      <td>-110.0</td>\n",
       "      <td>80.0</td>\n",
       "      <td>66.0</td>\n",
       "      <td>722.0</td>\n",
       "      <td>231.0</td>\n",
       "      <td>673.0</td>\n",
       "      <td>663.0</td>\n",
       "      <td>-1.0</td>\n",
       "      <td>-1.0</td>\n",
       "    </tr>\n",
       "    <tr>\n",
       "      <th>542577</th>\n",
       "      <td>3530589.0</td>\n",
       "      <td>14335418.0</td>\n",
       "      <td>51.00</td>\n",
       "      <td>1974.0</td>\n",
       "      <td>111.0</td>\n",
       "      <td>150.0</td>\n",
       "      <td>226.0</td>\n",
       "      <td>184.0</td>\n",
       "      <td>87.0</td>\n",
       "      <td>20.120000</td>\n",
       "      <td>...</td>\n",
       "      <td>-46.0</td>\n",
       "      <td>-110.0</td>\n",
       "      <td>80.0</td>\n",
       "      <td>66.0</td>\n",
       "      <td>722.0</td>\n",
       "      <td>231.0</td>\n",
       "      <td>673.0</td>\n",
       "      <td>663.0</td>\n",
       "      <td>-1.0</td>\n",
       "      <td>-1.0</td>\n",
       "    </tr>\n",
       "    <tr>\n",
       "      <th>542578</th>\n",
       "      <td>3530590.0</td>\n",
       "      <td>14335495.0</td>\n",
       "      <td>105.95</td>\n",
       "      <td>16132.0</td>\n",
       "      <td>111.0</td>\n",
       "      <td>150.0</td>\n",
       "      <td>226.0</td>\n",
       "      <td>299.0</td>\n",
       "      <td>87.0</td>\n",
       "      <td>23.855071</td>\n",
       "      <td>...</td>\n",
       "      <td>-46.0</td>\n",
       "      <td>-110.0</td>\n",
       "      <td>80.0</td>\n",
       "      <td>66.0</td>\n",
       "      <td>722.0</td>\n",
       "      <td>231.0</td>\n",
       "      <td>673.0</td>\n",
       "      <td>663.0</td>\n",
       "      <td>-1.0</td>\n",
       "      <td>-1.0</td>\n",
       "    </tr>\n",
       "    <tr>\n",
       "      <th>542579</th>\n",
       "      <td>3530591.0</td>\n",
       "      <td>14335530.0</td>\n",
       "      <td>107.95</td>\n",
       "      <td>13089.0</td>\n",
       "      <td>194.0</td>\n",
       "      <td>150.0</td>\n",
       "      <td>166.0</td>\n",
       "      <td>330.0</td>\n",
       "      <td>87.0</td>\n",
       "      <td>33.690000</td>\n",
       "      <td>...</td>\n",
       "      <td>-46.0</td>\n",
       "      <td>-110.0</td>\n",
       "      <td>80.0</td>\n",
       "      <td>66.0</td>\n",
       "      <td>722.0</td>\n",
       "      <td>231.0</td>\n",
       "      <td>673.0</td>\n",
       "      <td>663.0</td>\n",
       "      <td>-1.0</td>\n",
       "      <td>-1.0</td>\n",
       "    </tr>\n",
       "  </tbody>\n",
       "</table>\n",
       "<p>542580 rows × 166 columns</p>\n",
       "</div>"
      ],
      "text/plain": [
       "        TransactionID  TransactionDT  TransactionAmt    card1  card2  card3  \\\n",
       "0           2987000.0        86400.0           68.50  13926.0  143.0  150.0   \n",
       "1           2987001.0        86401.0           29.00   2755.0  404.0  150.0   \n",
       "2           2987002.0        86469.0           59.00   4663.0  490.0  150.0   \n",
       "3           2987003.0        86499.0           50.00  18132.0  567.0  150.0   \n",
       "4           2987004.0        86506.0           50.00   4497.0  514.0  150.0   \n",
       "...               ...            ...             ...      ...    ...    ...   \n",
       "542575      3530587.0     14335388.0          335.00   2455.0  321.0  150.0   \n",
       "542576      3530588.0     14335394.0           47.95   8320.0  476.0  150.0   \n",
       "542577      3530589.0     14335418.0           51.00   1974.0  111.0  150.0   \n",
       "542578      3530590.0     14335495.0          105.95  16132.0  111.0  150.0   \n",
       "542579      3530591.0     14335530.0          107.95  13089.0  194.0  150.0   \n",
       "\n",
       "        card5  addr1  addr2        dist1  ...  id_09  id_10  id_11  id_13  \\\n",
       "0       240.0  315.0   87.0    19.000000  ...  -46.0 -110.0   80.0   66.0   \n",
       "1       102.0  325.0   87.0  1927.650000  ...  -46.0 -110.0   80.0   66.0   \n",
       "2       166.0  330.0   87.0   287.000000  ...  -46.0 -110.0   80.0   66.0   \n",
       "3       117.0  476.0   87.0   156.030000  ...  -46.0 -110.0   80.0   66.0   \n",
       "4       102.0  420.0   87.0  1877.150000  ...  -46.0 -110.0  100.0   66.0   \n",
       "...       ...    ...    ...          ...  ...    ...    ...    ...    ...   \n",
       "542575  226.0  272.0   87.0    30.717000  ...  -46.0 -110.0   80.0   66.0   \n",
       "542576  166.0  191.0   87.0     1.000000  ...  -46.0 -110.0   80.0   66.0   \n",
       "542577  226.0  184.0   87.0    20.120000  ...  -46.0 -110.0   80.0   66.0   \n",
       "542578  226.0  299.0   87.0    23.855071  ...  -46.0 -110.0   80.0   66.0   \n",
       "542579  166.0  330.0   87.0    33.690000  ...  -46.0 -110.0   80.0   66.0   \n",
       "\n",
       "        id_14  id_17  id_19  id_20  screen_width  screen_height  \n",
       "0       722.0  231.0  673.0  663.0          -1.0           -1.0  \n",
       "1       722.0  231.0  673.0  663.0          -1.0           -1.0  \n",
       "2       722.0  231.0  673.0  663.0          -1.0           -1.0  \n",
       "3       722.0  231.0  673.0  663.0          -1.0           -1.0  \n",
       "4      -480.0  166.0  542.0  144.0        2220.0         1080.0  \n",
       "...       ...    ...    ...    ...           ...            ...  \n",
       "542575  722.0  231.0  673.0  663.0          -1.0           -1.0  \n",
       "542576  722.0  231.0  673.0  663.0          -1.0           -1.0  \n",
       "542577  722.0  231.0  673.0  663.0          -1.0           -1.0  \n",
       "542578  722.0  231.0  673.0  663.0          -1.0           -1.0  \n",
       "542579  722.0  231.0  673.0  663.0          -1.0           -1.0  \n",
       "\n",
       "[542580 rows x 166 columns]"
      ]
     },
     "execution_count": 22,
     "metadata": {},
     "output_type": "execute_result"
    }
   ],
   "source": [
    "# trả về giá trị ban đầu của những cột bị min-max scale\n",
    "X[num_cols] = minmax.inverse_transform(X[num_cols])\n",
    "X[num_cols]"
   ]
  },
  {
   "cell_type": "markdown",
   "id": "b568f5dc",
   "metadata": {},
   "source": [
    "Gaussian Naive Bayes yêu cầu các cột numeric phải theo phân phối chuẩn, vì vậy ta sẽ dùng Standard Scaler để chuẩn hóa các cột numeric"
   ]
  },
  {
   "cell_type": "code",
   "execution_count": 23,
   "id": "e875be16",
   "metadata": {},
   "outputs": [],
   "source": [
    "se = StandardScaler()\n",
    "se.fit(X[num_cols])\n",
    "X[num_cols] = se.transform(X[num_cols])"
   ]
  },
  {
   "cell_type": "code",
   "execution_count": 24,
   "id": "fdd91776",
   "metadata": {},
   "outputs": [],
   "source": [
    "# Tách tập train test và SMOTE một lần nữa\n",
    "X_train, X_test, y_train, y_test = train_test_split(X,y,test_size=0.2, stratify=y, random_state=42)\n",
    "X_res, y_res = smote.fit_resample(X_train, y_train)"
   ]
  },
  {
   "cell_type": "code",
   "execution_count": 25,
   "id": "a31e6684",
   "metadata": {},
   "outputs": [
    {
     "data": {
      "text/plain": [
       "0.7283327564035595"
      ]
     },
     "execution_count": 25,
     "metadata": {},
     "output_type": "execute_result"
    }
   ],
   "source": [
    "model_GNB = GaussianNB()\n",
    "model_GNB.fit(X_res, y_res)\n",
    "y_pred_probs = model_GNB.predict_proba(X_test)[:, 1]\n",
    "y_pred = model_GNB.predict(X_test)\n",
    "\n",
    "roc_auc_score(y_test, y_pred_probs)"
   ]
  },
  {
   "cell_type": "code",
   "execution_count": 26,
   "id": "01fa60df",
   "metadata": {},
   "outputs": [
    {
     "name": "stdout",
     "output_type": "stream",
     "text": [
      "              precision    recall  f1-score   support\n",
      "\n",
      "           0       0.98      0.77      0.86    104769\n",
      "           1       0.08      0.58      0.14      3747\n",
      "\n",
      "    accuracy                           0.76    108516\n",
      "   macro avg       0.53      0.67      0.50    108516\n",
      "weighted avg       0.95      0.76      0.84    108516\n",
      "\n"
     ]
    }
   ],
   "source": [
    "print(classification_report(y_test, y_pred))"
   ]
  },
  {
   "cell_type": "markdown",
   "id": "3f4f9188",
   "metadata": {},
   "source": [
    "ROC: 0.7283, Precision(nhãn 1): 0.08, Recall (nhãn 1): 0.58"
   ]
  },
  {
   "cell_type": "markdown",
   "id": "92d50912",
   "metadata": {},
   "source": [
    "### Hyperparameters tuning cho mô hình Gaussian Naive Bayes (tune var_smoothing)"
   ]
  },
  {
   "cell_type": "code",
   "execution_count": 27,
   "id": "19d762ef",
   "metadata": {},
   "outputs": [
    {
     "data": {
      "image/png": "[encoded data removed]",
      "text/plain": [
       "<Figure size 640x480 with 1 Axes>"
      ]
     },
     "metadata": {},
     "output_type": "display_data"
    }
   ],
   "source": [
    "var_smoothings = [1e-1, 1e-2, 1e-3, 1e-4, 1e-5]\n",
    "roc = []\n",
    "kf = KFold(shuffle=True,random_state=42)\n",
    "for var_smoothing in var_smoothings:\n",
    "    model_GNB = GaussianNB(var_smoothing=var_smoothing)\n",
    "    scores = []\n",
    "    for i, (train_index, val_index) in enumerate(kf.split(X_res)):\n",
    "        X_train_i = X_res.loc[train_index]\n",
    "        y_train_i = y_res[train_index]\n",
    "        X_val_i = X_res.loc[val_index]\n",
    "        y_val_i = y_res[val_index]\n",
    "        model_GNB.fit(X_train_i, y_train_i)\n",
    "        y_pred_i = model_GNB.predict_proba(X_val_i)[:, 1]\n",
    "        scores.append(roc_auc_score(y_val_i, y_pred_i))\n",
    "\n",
    "    # Hoàn thiện thêm phần code ở đây để ghi nhận acc tương ứng trong từng trường hợp\n",
    "    roc.append(np.mean(scores))\n",
    "\n",
    "# Minh họa tương quan bằng đồ thị\n",
    "# Gợi ý: barplot, lineplot, logarithmic plot\n",
    "\n",
    "plt.plot(var_smoothings, roc, marker=\"o\", linestyle=\"-\")\n",
    "plt.xscale(\"log\")  # Set the x-axis to be logarithmic\n",
    "plt.xlabel(\"var_smoothing\")\n",
    "plt.ylabel(\"AUC\")\n",
    "plt.title(\"AUC vs. var_smoothing in Gaussian Naive Bayes\")\n",
    "plt.grid(True)\n",
    "plt.show()"
   ]
  },
  {
   "cell_type": "markdown",
   "id": "70de265b",
   "metadata": {},
   "source": [
    "``var_smoothing`` sẽ được chọn bằng 0.01"
   ]
  },
  {
   "cell_type": "code",
   "execution_count": 28,
   "id": "f9426609",
   "metadata": {},
   "outputs": [
    {
     "name": "stdout",
     "output_type": "stream",
     "text": [
      "              precision    recall  f1-score   support\n",
      "\n",
      "           0       0.98      0.78      0.87    104769\n",
      "           1       0.08      0.55      0.14      3747\n",
      "\n",
      "    accuracy                           0.77    108516\n",
      "   macro avg       0.53      0.67      0.51    108516\n",
      "weighted avg       0.95      0.77      0.84    108516\n",
      "\n"
     ]
    }
   ],
   "source": [
    "model_GNB = GaussianNB(var_smoothing=0.01)\n",
    "model_GNB.fit(X_res, y_res)\n",
    "y_pred = model_GNB.predict(X_test)\n",
    "\n",
    "print(classification_report(y_test, y_pred))"
   ]
  },
  {
   "cell_type": "code",
   "execution_count": 29,
   "id": "0dae45b1",
   "metadata": {},
   "outputs": [
    {
     "data": {
      "text/plain": [
       "0.7616370118241731"
      ]
     },
     "execution_count": 29,
     "metadata": {},
     "output_type": "execute_result"
    }
   ],
   "source": [
    "y_pred_probs = model_GNB.predict_proba(X_test)[:, 1]\n",
    "roc_auc_score(y_test, y_pred_probs)"
   ]
  },
  {
   "cell_type": "markdown",
   "id": "1d024e23",
   "metadata": {},
   "source": [
    "ROC: 0.7616, Precision(nhãn 1): 0.08, Recall (nhãn 1): 0.55"
   ]
  },
  {
   "cell_type": "markdown",
   "id": "80c55be3",
   "metadata": {},
   "source": [
    "### Mô hình hồi quy Logistic (Logistic Regression)"
   ]
  },
  {
   "cell_type": "code",
   "execution_count": 30,
   "id": "871fa091",
   "metadata": {},
   "outputs": [],
   "source": [
    "from sklearn.linear_model import LogisticRegression"
   ]
  },
  {
   "cell_type": "code",
   "execution_count": 31,
   "id": "42921355",
   "metadata": {},
   "outputs": [
    {
     "data": {
      "text/html": [
       "<style>#sk-container-id-2 {color: black;background-color: white;}#sk-container-id-2 pre{padding: 0;}#sk-container-id-2 div.sk-toggleable {background-color: white;}#sk-container-id-2 label.sk-toggleable__label {cursor: pointer;display: block;width: 100%;margin-bottom: 0;padding: 0.3em;box-sizing: border-box;text-align: center;}#sk-container-id-2 label.sk-toggleable__label-arrow:before {content: \"▸\";float: left;margin-right: 0.25em;color: #696969;}#sk-container-id-2 label.sk-toggleable__label-arrow:hover:before {color: black;}#sk-container-id-2 div.sk-estimator:hover label.sk-toggleable__label-arrow:before {color: black;}#sk-container-id-2 div.sk-toggleable__content {max-height: 0;max-width: 0;overflow: hidden;text-align: left;background-color: #f0f8ff;}#sk-container-id-2 div.sk-toggleable__content pre {margin: 0.2em;color: black;border-radius: 0.25em;background-color: #f0f8ff;}#sk-container-id-2 input.sk-toggleable__control:checked~div.sk-toggleable__content {max-height: 200px;max-width: 100%;overflow: auto;}#sk-container-id-2 input.sk-toggleable__control:checked~label.sk-toggleable__label-arrow:before {content: \"▾\";}#sk-container-id-2 div.sk-estimator input.sk-toggleable__control:checked~label.sk-toggleable__label {background-color: #d4ebff;}#sk-container-id-2 div.sk-label input.sk-toggleable__control:checked~label.sk-toggleable__label {background-color: #d4ebff;}#sk-container-id-2 input.sk-hidden--visually {border: 0;clip: rect(1px 1px 1px 1px);clip: rect(1px, 1px, 1px, 1px);height: 1px;margin: -1px;overflow: hidden;padding: 0;position: absolute;width: 1px;}#sk-container-id-2 div.sk-estimator {font-family: monospace;background-color: #f0f8ff;border: 1px dotted black;border-radius: 0.25em;box-sizing: border-box;margin-bottom: 0.5em;}#sk-container-id-2 div.sk-estimator:hover {background-color: #d4ebff;}#sk-container-id-2 div.sk-parallel-item::after {content: \"\";width: 100%;border-bottom: 1px solid gray;flex-grow: 1;}#sk-container-id-2 div.sk-label:hover label.sk-toggleable__label {background-color: #d4ebff;}#sk-container-id-2 div.sk-serial::before {content: \"\";position: absolute;border-left: 1px solid gray;box-sizing: border-box;top: 0;bottom: 0;left: 50%;z-index: 0;}#sk-container-id-2 div.sk-serial {display: flex;flex-direction: column;align-items: center;background-color: white;padding-right: 0.2em;padding-left: 0.2em;position: relative;}#sk-container-id-2 div.sk-item {position: relative;z-index: 1;}#sk-container-id-2 div.sk-parallel {display: flex;align-items: stretch;justify-content: center;background-color: white;position: relative;}#sk-container-id-2 div.sk-item::before, #sk-container-id-2 div.sk-parallel-item::before {content: \"\";position: absolute;border-left: 1px solid gray;box-sizing: border-box;top: 0;bottom: 0;left: 50%;z-index: -1;}#sk-container-id-2 div.sk-parallel-item {display: flex;flex-direction: column;z-index: 1;position: relative;background-color: white;}#sk-container-id-2 div.sk-parallel-item:first-child::after {align-self: flex-end;width: 50%;}#sk-container-id-2 div.sk-parallel-item:last-child::after {align-self: flex-start;width: 50%;}#sk-container-id-2 div.sk-parallel-item:only-child::after {width: 0;}#sk-container-id-2 div.sk-dashed-wrapped {border: 1px dashed gray;margin: 0 0.4em 0.5em 0.4em;box-sizing: border-box;padding-bottom: 0.4em;background-color: white;}#sk-container-id-2 div.sk-label label {font-family: monospace;font-weight: bold;display: inline-block;line-height: 1.2em;}#sk-container-id-2 div.sk-label-container {text-align: center;}#sk-container-id-2 div.sk-container {/* jupyter's `normalize.less` sets `[hidden] { display: none; }` but bootstrap.min.css set `[hidden] { display: none !important; }` so we also need the `!important` here to be able to override the default hidden behavior on the sphinx rendered scikit-learn.org. See: https://github.com/scikit-learn/scikit-learn/issues/21755 */display: inline-block !important;position: relative;}#sk-container-id-2 div.sk-text-repr-fallback {display: none;}</style><div id=\"sk-container-id-2\" class=\"sk-top-container\"><div class=\"sk-text-repr-fallback\"><pre>LogisticRegression()</pre><b>In a Jupyter environment, please rerun this cell to show the HTML representation or trust the notebook. <br />On GitHub, the HTML representation is unable to render, please try loading this page with nbviewer.org.</b></div><div class=\"sk-container\" hidden><div class=\"sk-item\"><div class=\"sk-estimator sk-toggleable\"><input class=\"sk-toggleable__control sk-hidden--visually\" id=\"sk-estimator-id-2\" type=\"checkbox\" checked><label for=\"sk-estimator-id-2\" class=\"sk-toggleable__label sk-toggleable__label-arrow\">LogisticRegression</label><div class=\"sk-toggleable__content\"><pre>LogisticRegression()</pre></div></div></div></div></div>"
      ],
      "text/plain": [
       "LogisticRegression()"
      ]
     },
     "execution_count": 31,
     "metadata": {},
     "output_type": "execute_result"
    }
   ],
   "source": [
    "logr = LogisticRegression()\n",
    "logr.fit(X_res, y_res)\n",
    "logr"
   ]
  },
  {
   "cell_type": "code",
   "execution_count": 32,
   "id": "b342a042",
   "metadata": {},
   "outputs": [
    {
     "name": "stdout",
     "output_type": "stream",
     "text": [
      "              precision    recall  f1-score   support\n",
      "\n",
      "           0       0.99      0.83      0.90    104769\n",
      "           1       0.12      0.67      0.21      3747\n",
      "\n",
      "    accuracy                           0.82    108516\n",
      "   macro avg       0.55      0.75      0.55    108516\n",
      "weighted avg       0.96      0.82      0.88    108516\n",
      "\n"
     ]
    }
   ],
   "source": [
    "y_pred = logr.predict(X_test)\n",
    "print(classification_report(y_test, y_pred))"
   ]
  },
  {
   "cell_type": "code",
   "execution_count": 33,
   "id": "a3bd3155",
   "metadata": {},
   "outputs": [
    {
     "data": {
      "text/plain": [
       "0.8303479570619561"
      ]
     },
     "execution_count": 33,
     "metadata": {},
     "output_type": "execute_result"
    }
   ],
   "source": [
    "y_pred_probs = logr.predict_proba(X_test)[:, 1]\n",
    "roc_auc_score(y_test, y_pred_probs)"
   ]
  },
  {
   "cell_type": "markdown",
   "id": "d45f9d98",
   "metadata": {},
   "source": [
    "ROC: 0.8303, Precision(nhãn 1): 0.12, Recall (nhãn 1): 0.67"
   ]
  },
  {
   "cell_type": "markdown",
   "id": "35e119cf",
   "metadata": {},
   "source": [
    "Ở đây chúng tôi không tune được Logistic Regression với dữ liệu SMOTE vì có quá nhiều dữ liệu và thời gian train quá lâu."
   ]
  }
 ],
 "metadata": {
  "kernelspec": {
   "display_name": "Python 3 (ipykernel)",
   "language": "python",
   "name": "python3"
  },
  "language_info": {
   "codemirror_mode": {
    "name": "ipython",
    "version": 3
   },
   "file_extension": ".py",
   "mimetype": "text/x-python",
   "name": "python",
   "nbconvert_exporter": "python",
   "pygments_lexer": "ipython3",
   "version": "3.10.9"
  }
 },
 "nbformat": 4,
 "nbformat_minor": 5
}
